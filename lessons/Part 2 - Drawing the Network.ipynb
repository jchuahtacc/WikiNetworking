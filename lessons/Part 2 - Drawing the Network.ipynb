{
 "cells": [
  {
   "cell_type": "markdown",
   "metadata": {},
   "source": [
    "# Part 2 - Drawing the Network\n",
    "\n",
    "### Drawing the Data\n",
    "\n",
    "Now that we have a file containing the data that represents our network, we just need to load it and graph it. First, run the cell below by clicking on it and hitting `Ctrl-Enter` to import all of the utilities we need. You can reach each cell after this one by doing the same thing."
   ]
  },
  {
   "cell_type": "code",
   "execution_count": null,
   "metadata": {
    "collapsed": false
   },
   "outputs": [],
   "source": [
    "import wikinetworking as wn\n",
    "import networkx as nx\n",
    "import matplotlib.pyplot as plt\n",
    "from pyquery import PyQuery\n",
    "%matplotlib inline\n",
    "\n",
    "print \"OK\""
   ]
  },
  {
   "cell_type": "markdown",
   "metadata": {},
   "source": [
    "Let's pick the filename that contains our graph data."
   ]
  },
  {
   "cell_type": "code",
   "execution_count": null,
   "metadata": {
    "collapsed": true
   },
   "outputs": [],
   "source": [
    "filename = \"FILL_IN_A_FILENAME.json\""
   ]
  },
  {
   "cell_type": "markdown",
   "metadata": {},
   "source": [
    "### Changing graph options\n",
    "\n",
    "Now we can create the graph and draw it. Run the cell below to see the graph. You can try playing around with different ways of representing the graph. Try changing the following options in the code below and then re-running the cell:\n",
    "\n",
    "- `minimum_weight`: The minimum number of links between two articlese before a line will be drawn between them\n",
    "- `cmap`: The range of colors for nodes. You can choose any color map in the [matplotlib colormap reference](http://matplotlib.org/examples/color/colormaps_reference.html). The nodes are colored based on their _*degree*_, or the number of neighbors a node has\n",
    "- `edge_cmap`: The range of colors for edges that connect nodes. The edges are colored based on their _*weight*_, which is (in this case) the number of links between two neighbors.\n",
    "\n",
    "You may also try changing the `minimum_weight` parameter for `wn.create_graph`. Changing the minimum weight for displaying a relationship creates different clusterings of articles."
   ]
  },
  {
   "cell_type": "code",
   "execution_count": null,
   "metadata": {
    "collapsed": false
   },
   "outputs": [],
   "source": [
    "network = wn.load_dict(filename)\n",
    "graph = wn.create_graph(network, minimum_weight=1)\n",
    "layout = nx.spring_layout(graph)\n",
    "graph_html = wn.make_interactive_graph(graph, pos=layout, cmap=plt.cm.viridis, edge_cmap=plt.cm.Reds)"
   ]
  },
  {
   "cell_type": "markdown",
   "metadata": {},
   "source": [
    "### Making a really big graph\n",
    "\n",
    "Let's say you want to save a non-interactive graph that's big enough to display on a large display system. You can use the code cell below to do it."
   ]
  },
  {
   "cell_type": "code",
   "execution_count": null,
   "metadata": {
    "collapsed": false
   },
   "outputs": [],
   "source": [
    "wn.save_big_graph(graph, pos=layout, cmap=plt.cm.viridis, edge_cmap=plt.cm.YlOrBr, font_size=1, node_size_factor=5,dpi=800)"
   ]
  }
 ],
 "metadata": {
  "kernelspec": {
   "display_name": "Python 2",
   "language": "python",
   "name": "python2"
  },
  "language_info": {
   "codemirror_mode": {
    "name": "ipython",
    "version": 2
   },
   "file_extension": ".py",
   "mimetype": "text/x-python",
   "name": "python",
   "nbconvert_exporter": "python",
   "pygments_lexer": "ipython2",
   "version": "2.7.13"
  }
 },
 "nbformat": 4,
 "nbformat_minor": 2
}
